{
 "cells": [
  {
   "cell_type": "code",
   "execution_count": 3,
   "metadata": {},
   "outputs": [
    {
     "data": {
      "text/plain": [
       "false"
      ]
     },
     "execution_count": 3,
     "metadata": {},
     "output_type": "execute_result"
    }
   ],
   "source": [
    "require 'digest'"
   ]
  },
  {
   "cell_type": "code",
   "execution_count": 4,
   "metadata": {},
   "outputs": [
    {
     "data": {
      "text/plain": [
       "\"03d061e9c5891f579fd548cfd22ff29f5c642714cc7e7a9215f0071ef5a5723f69\""
      ]
     },
     "execution_count": 4,
     "metadata": {},
     "output_type": "execute_result"
    }
   ],
   "source": [
    "_pri_key = \"ccea9c5a20e2b78c2e0fbdd8ae2d2b67e6b1894ccb7a55fc1de08bd53994ea64\"\n",
    "_pub_key = \"04d061e9c5891f579fd548cfd22ff29f5c642714cc7e7a9215f0071ef5a5723f691757b28e31be71f09f24673eed52348e58d53bcfd26f4d96ec6bf1489eab429d\"\n",
    "_compressed_pub_key = \"03d061e9c5891f579fd548cfd22ff29f5c642714cc7e7a9215f0071ef5a5723f69\" #压缩公钥"
   ]
  },
  {
   "cell_type": "code",
   "execution_count": 5,
   "metadata": {},
   "outputs": [
    {
     "data": {
      "text/plain": [
       "\"6F\""
      ]
     },
     "execution_count": 5,
     "metadata": {},
     "output_type": "execute_result"
    }
   ],
   "source": [
    "_P2PKH = \"00\"\n",
    "_P2SH = \"05\"\n",
    "_Testnet = \"6F\""
   ]
  },
  {
   "cell_type": "code",
   "execution_count": 6,
   "metadata": {},
   "outputs": [
    {
     "data": {
      "text/plain": [
       ":_hash160"
      ]
     },
     "execution_count": 6,
     "metadata": {},
     "output_type": "execute_result"
    }
   ],
   "source": [
    "def _hash160(pub_key)\n",
    "  bytes = [pub_key].pack(\"H*\") # 转为16进制\n",
    "  Digest::RMD160.hexdigest(Digest::SHA256.digest(bytes) )\n",
    "end"
   ]
  },
  {
   "cell_type": "code",
   "execution_count": 7,
   "metadata": {},
   "outputs": [
    {
     "data": {
      "text/plain": [
       ":_checksum"
      ]
     },
     "execution_count": 7,
     "metadata": {},
     "output_type": "execute_result"
    }
   ],
   "source": [
    "def _checksum(val)\n",
    "  hex_str = [val].pack(\"H*\")\n",
    "  Digest::SHA256.hexdigest(Digest::SHA256.digest(hex_str) )[0...8]\n",
    "end"
   ]
  },
  {
   "cell_type": "code",
   "execution_count": 9,
   "metadata": {},
   "outputs": [
    {
     "data": {
      "text/plain": [
       ":_encode_base58"
      ]
     },
     "execution_count": 9,
     "metadata": {},
     "output_type": "execute_result"
    }
   ],
   "source": [
    "def _encode_base58(int_val, leading_zero_bytes=0)\n",
    "  alpha = \"123456789ABCDEFGHJKLMNPQRSTUVWXYZabcdefghijkmnopqrstuvwxyz\"\n",
    "  base58_val, base = '', alpha.size\n",
    "\n",
    "  while int_val > 0\n",
    "    int_val, remainder = int_val.divmod(base)\n",
    "    base58_val = alpha[remainder] + base58_val\n",
    "  end\n",
    "\n",
    "  base58_val\n",
    "end\n"
   ]
  },
  {
   "cell_type": "code",
   "execution_count": 10,
   "metadata": {},
   "outputs": [
    {
     "data": {
      "text/plain": [
       ":gen_addr"
      ]
     },
     "execution_count": 10,
     "metadata": {},
     "output_type": "execute_result"
    }
   ],
   "source": [
    "def gen_addr(prefix, pub)\n",
    "  hash160 = _hash160(pub)\n",
    "  tmp = prefix + hash160\n",
    "  checksum = _checksum(tmp)\n",
    "  val = tmp+checksum\n",
    "\n",
    "  leading_zero_bytes = (val.match(/^([0]+)/) ? $1 : '').size / 2\n",
    "  (\"1\" * leading_zero_bytes) + _encode_base58(val.to_i(16) )\n",
    "end"
   ]
  },
  {
   "cell_type": "code",
   "execution_count": 11,
   "metadata": {},
   "outputs": [
    {
     "name": "stdout",
     "output_type": "stream",
     "text": [
      "14xfJr1DArtYR156XBs28FoYk6sQqirT2s\n",
      "35egEPVeimCvWAmXeHXcYtAUtdA8RtsNUY\n",
      "mjUcbu6BytKoC7YiEkqPxB1sc6U7nnjFse\n",
      "\n",
      "#############压缩公钥#############\n",
      "现在一般都使用压缩公钥, 压缩/未压缩公钥生成的地址确实会不一样, 非压缩公钥早已成了非主流\n",
      "1ASfqPzBTfPSBA9DWdHYYNk4qM5NoGNtzL\n",
      "3B8gkwUd1ZhpGKqedix8y16zysN6QWqQxS\n",
      "mpxd8T5AGgpgxGcqECFvNHxPhLg5of8Sh3\n"
     ]
    }
   ],
   "source": [
    "puts gen_addr(_P2PKH, _pub_key)\n",
    "puts gen_addr(_P2SH, _pub_key)\n",
    "puts gen_addr(_Testnet, _pub_key)\n",
    "puts\n",
    "\n",
    "puts \"#############压缩公钥#############\"\n",
    "puts \"现在一般都使用压缩公钥, 压缩/未压缩公钥生成的地址确实会不一样, 非压缩公钥早已成了非主流\"\n",
    "puts gen_addr(_P2PKH, _compressed_pub_key)\n",
    "puts gen_addr(_P2SH, _compressed_pub_key)\n",
    "puts gen_addr(_Testnet, _compressed_pub_key)"
   ]
  },
  {
   "cell_type": "code",
   "execution_count": null,
   "metadata": {},
   "outputs": [],
   "source": []
  }
 ],
 "metadata": {
  "kernelspec": {
   "display_name": "Ruby 2.5.1",
   "language": "ruby",
   "name": "ruby"
  },
  "language_info": {
   "file_extension": ".rb",
   "mimetype": "application/x-ruby",
   "name": "ruby",
   "version": "2.5.1"
  }
 },
 "nbformat": 4,
 "nbformat_minor": 2
}
