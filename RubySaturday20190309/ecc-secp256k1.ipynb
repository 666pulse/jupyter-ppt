{
 "cells": [
  {
   "cell_type": "code",
   "execution_count": 1,
   "metadata": {
    "slideshow": {
     "slide_type": "slide"
    }
   },
   "outputs": [
    {
     "data": {
      "text/plain": [
       "1"
      ]
     },
     "execution_count": 1,
     "metadata": {},
     "output_type": "execute_result"
    }
   ],
   "source": [
    "# Bitcoin's curve - the secp256k1\n",
    "\n",
    "Pcurve = 2**256 - 2**32 - 2**9 - 2**8 - 2**7 - 2**6 - 2**4 -1 # Finite field, 有限域\n",
    "# 0xfffffffffffffffffffffffffffffffffffffffffffffffffffffffefffffc2f\n",
    "\n",
    "N = 0xFFFFFFFFFFFFFFFFFFFFFFFFFFFFFFFEBAAEDCE6AF48A03BBFD25E8CD0364141 # 群的阶\n",
    "Acurve = 0; Bcurve = 7 # 椭圆曲线的参数式. y^2 = x^3 + Acurve * x + Bcurve\n",
    "\n",
    "Gx = 0x79be667ef9dcbbac55a06295ce870b07029bfcdb2dce28d959f2815b16f81798\n",
    "Gy = 0x483ada7726a3c4655da4fbfc0e1108a8fd17b448a68554199c47d08ffb10d4b8\n",
    "\n",
    "GPoint = [Gx, Gy] # 椭圆曲线生成点, Base point.\n",
    "#(Gx**3+7) % Pcurve == (Gy**2) % Pcurve, GPoint在椭圆曲线上, x/y坐标符合椭圆曲线方程\n",
    "\n",
    "h = 1 # Subgroup cofactor, 子群辅因子为1, 就不参与运算了\n",
    "\n",
    "# Pcurve, N, GPoint, secp256k1的函数式, 都是严格规定的, 严禁修改!!!"
   ]
  },
  {
   "cell_type": "code",
   "execution_count": 2,
   "metadata": {
    "slideshow": {
     "slide_type": "slide"
    }
   },
   "outputs": [
    {
     "data": {
      "text/plain": [
       "92686342426433043823257286563609558273060439217767178748389683582897854147172"
      ]
     },
     "execution_count": 2,
     "metadata": {},
     "output_type": "execute_result"
    }
   ],
   "source": [
    "privKey = 0xccea9c5a20e2b78c2e0fbdd8ae2d2b67e6b1894ccb7a55fc1de08bd53994ea64 # 取值小于群的阶,即 {0,N}"
   ]
  },
  {
   "cell_type": "code",
   "execution_count": 3,
   "metadata": {
    "slideshow": {
     "slide_type": "slide"
    }
   },
   "outputs": [
    {
     "data": {
      "text/plain": [
       ":inverse_mod"
      ]
     },
     "execution_count": 3,
     "metadata": {},
     "output_type": "execute_result"
    }
   ],
   "source": [
    "def inverse_mod(a, n=Pcurve) #Extended Euclidean Algorithm/'division' in elliptic curves\n",
    "    # 扩展欧几里得算法, https://en.wikipedia.org/wiki/Extended_Euclidean_algorithm\n",
    "    lm, hm = 1,0\n",
    "    low, high = a%n, n\n",
    "\n",
    "    while low > 1\n",
    "        ratio = high/low\n",
    "        nm, new = hm-lm * ratio, high-low * ratio\n",
    "        lm, low, hm, high = nm, new, lm, low\n",
    "    end\n",
    "\n",
    "    return lm % n\n",
    "end"
   ]
  },
  {
   "cell_type": "code",
   "execution_count": 4,
   "metadata": {
    "slideshow": {
     "slide_type": "subslide"
    }
   },
   "outputs": [
    {
     "data": {
      "text/plain": [
       ":ECadd"
      ]
     },
     "execution_count": 4,
     "metadata": {},
     "output_type": "execute_result"
    }
   ],
   "source": [
    "def ECadd(a, b) # 椭圆曲线加法\n",
    "    lamAdd = ((b[1] - a[1]) * inverse_mod(b[0] - a[0], Pcurve) ) % Pcurve\n",
    "    x = (lamAdd * lamAdd - a[0] - b[0]) % Pcurve\n",
    "    y = (lamAdd * (a[0]-x) - a[1]) % Pcurve\n",
    "    return [x,y]\n",
    "end"
   ]
  },
  {
   "cell_type": "code",
   "execution_count": 5,
   "metadata": {
    "slideshow": {
     "slide_type": "subslide"
    }
   },
   "outputs": [
    {
     "data": {
      "text/plain": [
       ":ECdouble"
      ]
     },
     "execution_count": 5,
     "metadata": {},
     "output_type": "execute_result"
    }
   ],
   "source": [
    "def ECdouble(a) # 椭圆曲线倍乘\n",
    "    lam = ((3 * a[0] * a[0] + Acurve) * inverse_mod( (2*a[1]), Pcurve)) % Pcurve\n",
    "    x = (lam * lam - 2*a[0]) % Pcurve\n",
    "    y = (lam * (a[0] - x) - a[1]) % Pcurve\n",
    "    return [x,y]\n",
    "end"
   ]
  },
  {
   "cell_type": "code",
   "execution_count": 6,
   "metadata": {
    "slideshow": {
     "slide_type": "subslide"
    }
   },
   "outputs": [
    {
     "data": {
      "text/plain": [
       ":EccMultiply"
      ]
     },
     "execution_count": 6,
     "metadata": {},
     "output_type": "execute_result"
    }
   ],
   "source": [
    "def EccMultiply(genPoint, scalarHex) # Double & Add. Not true multiplication\n",
    "    if scalarHex == 0 || scalarHex >= N\n",
    "        raise Exception, \"Invalid Scalar/Private Key\"\n",
    "    end\n",
    "\n",
    "    scalarBin = scalarHex.to_s(2)\n",
    "\n",
    "    q = genPoint\n",
    "\n",
    "    endflag = scalarBin.size - 1\n",
    "\n",
    "    (1..endflag).each do |i| #转换为标量乘法\n",
    "      q = ECdouble(q)\n",
    "\n",
    "      if scalarBin[i] == \"1\"\n",
    "        q = ECadd(q, genPoint)\n",
    "      end\n",
    "\n",
    "    end\n",
    "\n",
    "    return q\n",
    "end\n"
   ]
  },
  {
   "cell_type": "code",
   "execution_count": 7,
   "metadata": {
    "slideshow": {
     "slide_type": "slide"
    }
   },
   "outputs": [
    {
     "name": "stdout",
     "output_type": "stream",
     "text": [
      "\n",
      "******* 生成公钥 *********\n",
      "\n",
      "私钥:\n",
      "92686342426433043823257286563609558273060439217767178748389683582897854147172\n",
      "\n",
      "未压缩公钥:\n",
      "[94254070103051885117469836196015243557739257957647004206592100635246867922793, 10558143556451648677642849389876337967792172201435957200657096226151412220573]\n",
      "\n",
      "未压缩公钥 (十六进制):\n",
      "04d061e9c5891f579fd548cfd22ff29f5c642714cc7e7a9215f0071ef5a5723f691757b28e31be71f09f24673eed52348e58d53bcfd26f4d96ec6bf1489eab429d\n",
      "\n",
      "官方公钥 - 压缩的:\n",
      "03d061e9c5891f579fd548cfd22ff29f5c642714cc7e7a9215f0071ef5a5723f69\n"
     ]
    }
   ],
   "source": [
    "puts; puts \"******* 生成公钥 *********\";\n",
    "puts\n",
    "PublicKey = EccMultiply(GPoint, privKey)\n",
    "puts \"私钥:\";\n",
    "puts privKey; puts\n",
    "puts \"未压缩公钥:\";\n",
    "puts PublicKey; puts\n",
    "puts \"未压缩公钥 (十六进制):\";\n",
    "puts \"04\" + PublicKey[0].to_s(16).rjust(64, \"0\") + PublicKey[1].to_s(16).rjust(64, \"0\")\n",
    "puts;\n",
    "puts \"官方公钥 - 压缩的:\";\n",
    "\n",
    "if PublicKey[1] % 2 == 1 # If the Y value for the Public Key is odd.\n",
    "    puts \"03\" + PublicKey[0].to_s(16).rjust(64, \"0\")\n",
    "else # Or else, if the Y value is even.\n",
    "    puts \"02\" + PublicKey[0].to_s(16).rjust(64, \"0\")\n",
    "end"
   ]
  },
  {
   "cell_type": "code",
   "execution_count": null,
   "metadata": {},
   "outputs": [],
   "source": []
  }
 ],
 "metadata": {
  "celltoolbar": "Slideshow",
  "kernelspec": {
   "display_name": "Ruby 2.5.1",
   "language": "ruby",
   "name": "ruby"
  },
  "language_info": {
   "file_extension": ".rb",
   "mimetype": "application/x-ruby",
   "name": "ruby",
   "version": "2.5.1"
  }
 },
 "nbformat": 4,
 "nbformat_minor": 2
}
