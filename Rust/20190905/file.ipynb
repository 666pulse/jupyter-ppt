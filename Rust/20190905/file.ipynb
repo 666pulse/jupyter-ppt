{
 "cells": [
  {
   "cell_type": "code",
   "execution_count": 2,
   "metadata": {},
   "outputs": [],
   "source": [
    "use std::fmt::Debug;\n",
    "\n",
    "pub struct Matrix<T> {\n",
    "    pub values: Vec<T>,\n",
    "    pub row_size: usize,\n",
    "}\n",
    "\n",
    "impl<T: Debug> Matrix<T> {\n",
    "    pub fn evcxr_display(&self) {\n",
    "        let mut html = String::new();\n",
    "        html.push_str(\"<table>\");\n",
    "\n",
    "        for r in 0..(self.values.len() / self.row_size) {\n",
    "            html.push_str(\"<tr>\");\n",
    "\n",
    "            for c in 0..self.row_size {\n",
    "                html.push_str(\"<td>\");\n",
    "                html.push_str(&format!(\"{:?}\", self.values[r * self.row_size + c]));\n",
    "                html.push_str(\"</td>\");\n",
    "            }\n",
    "\n",
    "            html.push_str(\"</tr>\");\n",
    "        }\n",
    "\n",
    "        html.push_str(\"</table>\");\n",
    "        println!(\"EVCXR_BEGIN_CONTENT text/html\\n{}\\nEVCXR_END_CONTENT\", html);\n",
    "    }\n",
    "}\n"
   ]
  },
  {
   "cell_type": "code",
   "execution_count": 5,
   "metadata": {},
   "outputs": [
    {
     "name": "stdout",
     "output_type": "stream",
     "text": [
      "num: 2\n"
     ]
    }
   ],
   "source": [
    "// 编译成功\n",
    "let num = 1;\n",
    "let num = 2;\n",
    "println!(\"num: {}\", num)\n"
   ]
  },
  {
   "cell_type": "code",
   "execution_count": null,
   "metadata": {},
   "outputs": [],
   "source": [
    "let num = 1;\n",
    "num = 2;\n",
    "println!(\"num: {}\", num);"
   ]
  },
  {
   "cell_type": "code",
   "execution_count": 7,
   "metadata": {},
   "outputs": [
    {
     "name": "stdout",
     "output_type": "stream",
     "text": [
      "s1: word\n"
     ]
    }
   ],
   "source": [
    "// let s1 = Box::new(\"word\");\n",
    "let s1 = String::from(\"word\");\n",
    "\n",
    "println!(\"s1: {}\", s1)"
   ]
  },
  {
   "cell_type": "code",
   "execution_count": null,
   "metadata": {},
   "outputs": [],
   "source": [
    "// let s1 = Box::new(\"word\");\n",
    "let s1 = String::from(\"word\");\n",
    "let s2 = s1;\n",
    "println!(\"s1: {}\", s1)\n"
   ]
  },
  {
   "cell_type": "code",
   "execution_count": 8,
   "metadata": {},
   "outputs": [],
   "source": [
    "// 编译成功\n",
    "#[derive(Debug)]\n",
    "struct Gps {\n",
    "    x: i32,\n",
    "    y: i32,\n",
    "}\n",
    "\n",
    "fn main() {\n",
    "    let a = Gps { x: 3, y: 7 };\n",
    "    println!(\"a struct: {:#?}\", a);\n",
    "}\n"
   ]
  },
  {
   "cell_type": "code",
   "execution_count": 9,
   "metadata": {},
   "outputs": [
    {
     "name": "stdout",
     "output_type": "stream",
     "text": [
      "a struct: Gps {\n",
      "    x: 3,\n",
      "    y: 7,\n",
      "}\n"
     ]
    },
    {
     "data": {
      "text/plain": [
       "()"
      ]
     },
     "execution_count": 9,
     "metadata": {},
     "output_type": "execute_result"
    }
   ],
   "source": [
    "// 编译成功\n",
    "#[derive(Debug)]\n",
    "struct Gps {\n",
    "    x: i32,\n",
    "    y: i32,\n",
    "}\n",
    "\n",
    " \n",
    "let a = Gps { x: 3, y: 7 };\n",
    "println!(\"a struct: {:#?}\", a)"
   ]
  },
  {
   "cell_type": "code",
   "execution_count": null,
   "metadata": {},
   "outputs": [],
   "source": []
  }
 ],
 "metadata": {
  "kernelspec": {
   "display_name": "Rust",
   "language": "rust",
   "name": "rust"
  },
  "language_info": {
   "codemirror_mode": "rust",
   "file_extension": ".rs",
   "mimetype": "text/rust",
   "name": "Rust",
   "pygment_lexer": "rust",
   "version": ""
  }
 },
 "nbformat": 4,
 "nbformat_minor": 2
}
